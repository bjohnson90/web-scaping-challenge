{
 "cells": [
  {
   "cell_type": "code",
   "execution_count": 38,
   "metadata": {},
   "outputs": [],
   "source": [
    " # Dependencies\n",
    "import os\n",
    "import requests\n",
    "import pandas as pd\n",
    "from bs4 import BeautifulSoup as bs\n",
    "from splinter import Browser"
   ]
  },
  {
   "cell_type": "code",
   "execution_count": 39,
   "metadata": {},
   "outputs": [],
   "source": [
    "nasa_url = \"https://mars.nasa.gov/news/\"\n",
    "jpl_url = \"https://data-class-jpl-space.s3.amazonaws.com/JPL_Space/index.html\"\n",
    "facts_url = \"https://space-facts.com/mars/\"\n",
    "hemispheres_url = \"https://astrogeology.usgs.gov/search/results?q=hemisphere+enhanced&k1=target&v1=Mars\"\n",
    "\n",
    "nasa_html = requests.get(nasa_url)\n",
    "hemispheres_html = requests.get(hemispheres_url)"
   ]
  },
  {
   "cell_type": "code",
   "execution_count": 40,
   "metadata": {},
   "outputs": [],
   "source": [
    "# Create a Beautiful Soup object\n",
    "nasa_soup = bs(nasa_html.text, 'html.parser')\n",
    "hemispheres_soup = bs(hemispheres_html.text, 'html.parser')"
   ]
  },
  {
   "cell_type": "code",
   "execution_count": 41,
   "metadata": {},
   "outputs": [],
   "source": [
    "#harvest html_content from nasa url\n",
    "nasa_p = nasa_soup.find_all('div', {\"class\": \"rollover_description_inner\"})[0].get_text()\n",
    "\n",
    "# harvest html_title from nasa url\n",
    "nasa_title = nasa_soup.find_all('div', {\"class\": \"content_title\"})[0].find('a').get_text()"
   ]
  },
  {
   "cell_type": "code",
   "execution_count": 53,
   "metadata": {},
   "outputs": [],
   "source": [
    "# find featured image\n",
    "browser = Browser('chrome', headless=False)\n",
    "browser.visit(jpl_url)\n",
    "browser.find_by_css(\"button.btn\").first.click()\n",
    "img_path = browser.find_by_css(\"img.fancybox-image\").first['src']"
   ]
  },
  {
   "cell_type": "code",
   "execution_count": 54,
   "metadata": {},
   "outputs": [],
   "source": [
    "# scrape table\n",
    "mars_facts_df = pd.read_html(facts_url,attrs={'id': 'tablepress-p-mars'})\n",
    "mars_facts_table = mars_facts_df[0].to_html()"
   ]
  },
  {
   "cell_type": "code",
   "execution_count": 61,
   "metadata": {},
   "outputs": [
    {
     "name": "stdout",
     "output_type": "stream",
     "text": [
      "{'title': 'Cerberus Hemisphere Enhanced', 'img_url': 'https://astropedia.astrogeology.usgs.gov/download/Mars/Viking/cerberus_enhanced.tif/full.jpg'}\n",
      "{'title': 'Schiaparelli Hemisphere Enhanced', 'img_url': 'https://astropedia.astrogeology.usgs.gov/download/Mars/Viking/schiaparelli_enhanced.tif/full.jpg'}\n",
      "{'title': 'Syrtis Major Hemisphere Enhanced', 'img_url': 'https://astropedia.astrogeology.usgs.gov/download/Mars/Viking/syrtis_major_enhanced.tif/full.jpg'}\n",
      "{'title': 'Valles Marineris Hemisphere Enhanced', 'img_url': 'https://astropedia.astrogeology.usgs.gov/download/Mars/Viking/valles_marineris_enhanced.tif/full.jpg'}\n",
      "[{'title': 'Cerberus Hemisphere Enhanced', 'img_url': 'https://astropedia.astrogeology.usgs.gov/download/Mars/Viking/cerberus_enhanced.tif/full.jpg'}, {'title': 'Schiaparelli Hemisphere Enhanced', 'img_url': 'https://astropedia.astrogeology.usgs.gov/download/Mars/Viking/schiaparelli_enhanced.tif/full.jpg'}, {'title': 'Syrtis Major Hemisphere Enhanced', 'img_url': 'https://astropedia.astrogeology.usgs.gov/download/Mars/Viking/syrtis_major_enhanced.tif/full.jpg'}, {'title': 'Valles Marineris Hemisphere Enhanced', 'img_url': 'https://astropedia.astrogeology.usgs.gov/download/Mars/Viking/valles_marineris_enhanced.tif/full.jpg'}]\n"
     ]
    }
   ],
   "source": [
    "# Scrape Hemisphere images\n",
    "hemisphere_image_urls = []\n",
    "browser.visit(hemispheres_url)\n",
    "for i in range(4):\n",
    "    temp_dict = {}\n",
    "    divs = browser.find_by_css(\"div.item\")\n",
    "    temp_dict['title'] = divs[i].find_by_tag(\"h3\").first.text\n",
    "    divs[i].find_by_tag(\"h3\").first.click()\n",
    "    temp_dict['img_url'] = browser.links.find_by_partial_text('Sample').first['href']\n",
    "    browser.back()\n",
    "    hemisphere_image_urls.append(temp_dict)"
   ]
  },
  {
   "cell_type": "code",
   "execution_count": 63,
   "metadata": {},
   "outputs": [],
   "source": [
    "#bundle items into single dictionary\n",
    "scraped_data = {\"nasa_news\": \n",
    "                {\n",
    "                    \"title\": nasa_title,\n",
    "                    \"paragraph\": nasa_p\n",
    "                },\n",
    "                \"jpl_mars\":\n",
    "                {\n",
    "                    \"img\": img_path\n",
    "                },\n",
    "                \"mars_facts\":\n",
    "                {\n",
    "                    \"table\": mars_facts_table\n",
    "                },\n",
    "                \"mars_hemispheres\": hemisphere_image_urls\n",
    "               }"
   ]
  },
  {
   "cell_type": "code",
   "execution_count": 64,
   "metadata": {},
   "outputs": [
    {
     "name": "stdout",
     "output_type": "stream",
     "text": [
      "C:\\Users\\SEO\\anaconda3;C:\\Users\\SEO\\anaconda3\\Library\\mingw-w64\\bin;C:\\Users\\SEO\\anaconda3\\Library\\usr\\bin;C:\\Users\\SEO\\anaconda3\\Library\\bin;C:\\Users\\SEO\\anaconda3\\Scripts;C:\\Users\\SEO\\anaconda3\\bin;C:\\Users\\SEO\\anaconda3\\condabin;C:\\Users\\SEO\\anaconda3;C:\\Users\\SEO\\anaconda3\\Library\\mingw-w64\\bin;C:\\Users\\SEO\\anaconda3\\Library\\usr\\bin;C:\\Users\\SEO\\anaconda3\\Library\\bin;C:\\Users\\SEO\\anaconda3\\Scripts;C:\\Program Files (x86)\\Intel\\iCLS Client;C:\\Program Files\\Intel\\iCLS Client;C:\\Windows\\system32;C:\\Windows;C:\\Windows\\System32\\Wbem;C:\\Windows\\System32\\WindowsPowerShell\\v1.0;C:\\Program Files\\Intel\\Intel(R) Management Engine Components\\DAL;C:\\Program Files (x86)\\Intel\\Intel(R) Management Engine Components\\DAL;C:\\Program Files\\Intel\\Intel(R) Management Engine Components\\IPT;C:\\Program Files (x86)\\Intel\\Intel(R) Management Engine Components\\IPT;C:\\Program Files\\Intel\\WiFi\\bin;C:\\Program Files\\Common Files\\Intel\\WirelessCommon;C:\\Program Files (x86)\\Common Files\\Lenovo;C:\\Program Files (x86)\\Common Files\\lenovo\\easyplussdk\\bin;C:\\SWTOOLS\\ReadyApps;C:\\Program Files\\MATLAB\\R2015a\\runtime\\win64;C:\\Program Files\\MATLAB\\R2015a\\bin;C:\\Program Files (x86)\\QuickTime\\QTSystem;C:\\Program Files\\Git\\cmd;.;C:\\Users\\SEO\\AppData\\Local\\Programs\\Microsoft VS Code\\bin\n"
     ]
    }
   ],
   "source": [
    "print(os.environ['PATH'])"
   ]
  },
  {
   "cell_type": "code",
   "execution_count": null,
   "metadata": {},
   "outputs": [],
   "source": []
  }
 ],
 "metadata": {
  "kernelspec": {
   "display_name": "Python 3",
   "language": "python",
   "name": "python3"
  },
  "language_info": {
   "codemirror_mode": {
    "name": "ipython",
    "version": 3
   },
   "file_extension": ".py",
   "mimetype": "text/x-python",
   "name": "python",
   "nbconvert_exporter": "python",
   "pygments_lexer": "ipython3",
   "version": "3.8.5"
  }
 },
 "nbformat": 4,
 "nbformat_minor": 4
}
